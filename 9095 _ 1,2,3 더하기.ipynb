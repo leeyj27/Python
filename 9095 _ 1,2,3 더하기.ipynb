{
 "cells": [
  {
   "cell_type": "markdown",
   "metadata": {},
   "source": [
    "### 9095번 _ 1,2,3 더하기\n",
    "n = 4  \n",
    "1+1+1+1  \n",
    "1+1+2  \n",
    "1+2+1  \n",
    "2+1+1  \n",
    "2+2  \n",
    "1+3  \n",
    "3+1  \n",
    "\n",
    "마지막 +1 인 경우 :  \n",
    "1+1+1 , 1+2, 2+1, 3 -> T[n-1]  \n",
    "마지막 +2 인 경우 :  \n",
    "1+1, 2 -> T[n-2]  \n",
    "마지막 +3 인 경우 :\n",
    "1 -> T[n-3]  \n",
    "\n",
    "#### 즉 T[n] = T[n-1] + T[n-2] + T[n-3] (단 T[1] = 1, T[2]= 2 T[3]  = 4)\n"
   ]
  },
  {
   "cell_type": "code",
   "execution_count": 7,
   "metadata": {},
   "outputs": [
    {
     "name": "stdout",
     "output_type": "stream",
     "text": [
      "3\n",
      "4\n",
      "7\n",
      "7\n",
      "44\n",
      "10\n",
      "274\n"
     ]
    }
   ],
   "source": [
    "for i in range(int(input())) :\n",
    "    tar = int(input())\n",
    "    T = {}\n",
    "    T[0] = 0\n",
    "    T[1] = 1\n",
    "    T[2] = 2\n",
    "    T[3] = 4\n",
    "    for i in range(4,tar+1) : # O(N)\n",
    "        T[i] = T[i-1] + T[i-2] + T[i-3]\n",
    "    print(T[tar])\n",
    "# 시간복잡도 : O(N) 번 만큼 계산! \n",
    "# 공간복잡도 : O(N+1) "
   ]
  }
 ],
 "metadata": {
  "kernelspec": {
   "display_name": "Python 3",
   "language": "python",
   "name": "python3"
  },
  "language_info": {
   "codemirror_mode": {
    "name": "ipython",
    "version": 3
   },
   "file_extension": ".py",
   "mimetype": "text/x-python",
   "name": "python",
   "nbconvert_exporter": "python",
   "pygments_lexer": "ipython3",
   "version": "3.6.3"
  }
 },
 "nbformat": 4,
 "nbformat_minor": 2
}
