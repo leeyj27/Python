{
 "cells": [
  {
   "cell_type": "markdown",
   "metadata": {},
   "source": [
    "### 11057번 : 오르막수"
   ]
  },
  {
   "cell_type": "code",
   "execution_count": 21,
   "metadata": {},
   "outputs": [
    {
     "name": "stdout",
     "output_type": "stream",
     "text": [
      "3\n",
      "220\n"
     ]
    }
   ],
   "source": [
    "N = int(input())\n",
    "# N은 길이야!\n",
    "# 0 ~ 9 \n",
    "\n",
    "count = 0\n",
    "# matrix = [[0 for col in range(10)] for row in range(10)]\n",
    "DP = [[0 for col in range(10)] for row in range(N+1)]\n",
    "i = 0\n",
    "for i in range(10) :\n",
    "    DP[1][i] = 1;\n",
    "i = 0\n",
    "for i in range(2,N+1) :\n",
    "    for j in range(10) :\n",
    "        if j == 0 :\n",
    "            Sum = 0\n",
    "            for k in range(10) :\n",
    "                Sum += DP[i-1][k]\n",
    "            DP[i][0] = Sum\n",
    "            # 항상 첫 번째는 그 전의 모든 합!\n",
    "        # DP[i][j]\n",
    "        else :\n",
    "            DP[i][j] = DP[i][j-1] - DP[i-1][j-1]\n",
    "            # 그 이후로는 하나 씩 빼가면서!\n",
    "i = 0            \n",
    "for i in range(10) :\n",
    "    count += DP[N][i]\n",
    "# print(DP[2][0])\n",
    "print(count%10007)"
   ]
  },
  {
   "cell_type": "code",
   "execution_count": null,
   "metadata": {},
   "outputs": [],
   "source": []
  }
 ],
 "metadata": {
  "kernelspec": {
   "display_name": "Python 3",
   "language": "python",
   "name": "python3"
  },
  "language_info": {
   "codemirror_mode": {
    "name": "ipython",
    "version": 3
   },
   "file_extension": ".py",
   "mimetype": "text/x-python",
   "name": "python",
   "nbconvert_exporter": "python",
   "pygments_lexer": "ipython3",
   "version": "3.6.3"
  }
 },
 "nbformat": 4,
 "nbformat_minor": 2
}
