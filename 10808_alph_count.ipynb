{
 "cells": [
  {
   "cell_type": "markdown",
   "metadata": {},
   "source": [
    "#### 10808번 알파벳 개수"
   ]
  },
  {
   "cell_type": "code",
   "execution_count": 10,
   "metadata": {},
   "outputs": [
    {
     "name": "stdout",
     "output_type": "stream",
     "text": [
      "back\n",
      "1 1 1 0 0 0 0 0 0 0 1 0 0 0 0 0 0 0 0 0 0 0 0 0 0 0\n"
     ]
    }
   ],
   "source": [
    "s = input()\n",
    "alph = []\n",
    "alph.append(s.count('a'))\n",
    "alph.append(s.count('b'))\n",
    "alph.append(s.count('c'))\n",
    "alph.append(s.count('d'))\n",
    "alph.append(s.count('e'))\n",
    "alph.append(s.count('f'))\n",
    "alph.append(s.count('g'))\n",
    "alph.append(s.count('h'))\n",
    "alph.append(s.count('i'))\n",
    "alph.append(s.count('j'))\n",
    "alph.append(s.count('k'))\n",
    "alph.append(s.count('l'))\n",
    "alph.append(s.count('m'))\n",
    "alph.append(s.count('n'))\n",
    "alph.append(s.count('o'))\n",
    "alph.append(s.count('p'))\n",
    "alph.append(s.count('q'))\n",
    "alph.append(s.count('r'))\n",
    "alph.append(s.count('s'))\n",
    "alph.append(s.count('t'))\n",
    "alph.append(s.count('u'))\n",
    "alph.append(s.count('v'))\n",
    "alph.append(s.count('w'))\n",
    "alph.append(s.count('x'))\n",
    "alph.append(s.count('y'))\n",
    "alph.append(s.count('z'))\n",
    "print (*alph,sep=' ')\n",
    "# 복잡도 계산 : 공간 복잡도 : 26(알파벳), 시간 복잡도 : count : n  count *26번  -> O(n)"
   ]
  },
  {
   "cell_type": "code",
   "execution_count": 11,
   "metadata": {},
   "outputs": [
    {
     "name": "stdout",
     "output_type": "stream",
     "text": [
      "back\n",
      "1 1 1 0 0 0 0 0 0 0 1 0 0 0 0 0 0 0 0 0 0 0 0 0 0 0 "
     ]
    }
   ],
   "source": [
    "# 아스키 사용하면 간단해짐.\n",
    "s = input()\n",
    "for i in range(26) :\n",
    "    print(s.count(chr(97+i)),end=' ')"
   ]
  },
  {
   "cell_type": "code",
   "execution_count": null,
   "metadata": {},
   "outputs": [],
   "source": []
  }
 ],
 "metadata": {
  "kernelspec": {
   "display_name": "Python 3",
   "language": "python",
   "name": "python3"
  },
  "language_info": {
   "codemirror_mode": {
    "name": "ipython",
    "version": 3
   },
   "file_extension": ".py",
   "mimetype": "text/x-python",
   "name": "python",
   "nbconvert_exporter": "python",
   "pygments_lexer": "ipython3",
   "version": "3.6.3"
  }
 },
 "nbformat": 4,
 "nbformat_minor": 2
}
