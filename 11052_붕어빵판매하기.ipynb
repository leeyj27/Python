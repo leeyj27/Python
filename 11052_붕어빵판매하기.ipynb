{
 "cells": [
  {
   "cell_type": "markdown",
   "metadata": {},
   "source": [
    "### 11052_붕어빵_판매하기\n",
    "처음에는 곱으로만 가능하다가 합이 나올 경우 각각의 최댓값이 필요함.  \n",
    "이 경우 재귀로 바로바로 최대를 구할 경우 시간초과 발생  \n",
    "DP를 사용해서 각 결과를 저장 후 가져오니 시간 안에 해결  "
   ]
  },
  {
   "cell_type": "code",
   "execution_count": 28,
   "metadata": {},
   "outputs": [
    {
     "name": "stdout",
     "output_type": "stream",
     "text": [
      "5\n",
      "10 9 8 7 6\n",
      "50\n"
     ]
    }
   ],
   "source": [
    "def findMax(N, P) :\n",
    "    result = []\n",
    "    check = {}\n",
    "    for i in range(N) :\n",
    "        if N % (i+1) == 0:\n",
    "            result.append(int((N/(i+1))*P[i]))\n",
    "        else :\n",
    "            temp = N - (i+1)\n",
    "            try : check[temp]\n",
    "            except : \n",
    "                # 값이 없을 경우\n",
    "                check[temp] = findMax(temp,P)\n",
    "            else:\n",
    "                # 값이 잇을 경우\n",
    "                if check[temp] <= P[temp-1] :\n",
    "                    result.append(P[i] + P[temp-1])\n",
    "                else:\n",
    "                    result.append(P[i] + check[temp])\n",
    "    #print(result)\n",
    "    return max(result)\n",
    "N = int(input())\n",
    "P = list(map(int,input().split()))\n",
    "k = findMax(N,P)\n",
    "print(k)"
   ]
  },
  {
   "cell_type": "code",
   "execution_count": 27,
   "metadata": {},
   "outputs": [
    {
     "name": "stdout",
     "output_type": "stream",
     "text": [
      "5\n",
      "10 9 8 7 6\n",
      "50\n"
     ]
    }
   ],
   "source": [
    "\n",
    "N = int(input())\n",
    "P = list(map(int,input().split()))\n",
    "result = {}\n",
    "result[1] = P[0]\n",
    "result[2] = max(P[0]*2,P[1]*1)\n",
    "for i in range(3,N+1) :\n",
    "    tar = 0\n",
    "    for j in range(1,i+1) :\n",
    "        if i % j == 0:\n",
    "            tar = max(tar,int((i/j)*P[j-1]))\n",
    "        else :\n",
    "            temp =  i - j\n",
    "            # print(tar,end=\" \")\n",
    "            tar= max(tar, result[j] + result[temp])\n",
    "            # print(result[temp]+result[j])\n",
    "    result[i] = tar\n",
    "print(result[N])"
   ]
  },
  {
   "cell_type": "code",
   "execution_count": null,
   "metadata": {},
   "outputs": [],
   "source": []
  }
 ],
 "metadata": {
  "kernelspec": {
   "display_name": "Python 3",
   "language": "python",
   "name": "python3"
  },
  "language_info": {
   "codemirror_mode": {
    "name": "ipython",
    "version": 3
   },
   "file_extension": ".py",
   "mimetype": "text/x-python",
   "name": "python",
   "nbconvert_exporter": "python",
   "pygments_lexer": "ipython3",
   "version": "3.6.3"
  }
 },
 "nbformat": 4,
 "nbformat_minor": 2
}
