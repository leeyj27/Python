{
 "cells": [
  {
   "cell_type": "markdown",
   "metadata": {},
   "source": [
    "#### 2743 단어 길이 재기"
   ]
  },
  {
   "cell_type": "code",
   "execution_count": 1,
   "metadata": {},
   "outputs": [
    {
     "name": "stdout",
     "output_type": "stream",
     "text": [
      "pulljima\n",
      "8\n"
     ]
    }
   ],
   "source": [
    "s = input()\n",
    "print(len(s))"
   ]
  },
  {
   "cell_type": "markdown",
   "metadata": {},
   "source": [
    "#### 11655 ROT13"
   ]
  },
  {
   "cell_type": "code",
   "execution_count": 30,
   "metadata": {},
   "outputs": [
    {
     "name": "stdout",
     "output_type": "stream",
     "text": [
      "One is 1\n",
      "Bar vf 1"
     ]
    }
   ],
   "source": [
    "s = input()\n",
    "\n",
    "for x in s :\n",
    "    if x.isspace() == True or x.isdigit() == True :\n",
    "        # x가 공백이거나 숫자일 경우는 그냥 출력!\n",
    "        print(x,end='')\n",
    "        continue\n",
    "    if ord(x) >= 97 and ord(x) <= 122:\n",
    "        # x 가 소문자 라면\n",
    "        target = ord(x)+13\n",
    "        # x 가 z 범위를 넘어설 경우\n",
    "        if target > 122 :\n",
    "            target = target - 122 + 96\n",
    "    elif ord(x) >= 65 and ord(x) <= 90:\n",
    "        # x 가 대문자 라면\n",
    "        target = ord(x)+13\n",
    "        if target > 90 :\n",
    "            # X가 Z 범위를 넘어설 경우\n",
    "            target = target - 90 + 64\n",
    "    print(chr(target),end='')\n",
    "    # +13 의 경우 문자 보다 넘치는 경우가 생김"
   ]
  }
 ],
 "metadata": {
  "kernelspec": {
   "display_name": "Python 3",
   "language": "python",
   "name": "python3"
  },
  "language_info": {
   "codemirror_mode": {
    "name": "ipython",
    "version": 3
   },
   "file_extension": ".py",
   "mimetype": "text/x-python",
   "name": "python",
   "nbconvert_exporter": "python",
   "pygments_lexer": "ipython3",
   "version": "3.6.3"
  }
 },
 "nbformat": 4,
 "nbformat_minor": 2
}
