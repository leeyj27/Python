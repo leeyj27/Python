{
 "cells": [
  {
   "cell_type": "markdown",
   "metadata": {},
   "source": [
    "### 1158번 조세퍼스 문제"
   ]
  },
  {
   "cell_type": "code",
   "execution_count": 94,
   "metadata": {},
   "outputs": [
    {
     "name": "stdout",
     "output_type": "stream",
     "text": [
      "7 3\n",
      "<3, 6, 2, 7, 5, 1, 4>\n"
     ]
    }
   ],
   "source": [
    "N,M = map(int,input().split())\n",
    "# map -> int 함수를 적용 각각의 경우에다!\n",
    "num = [i+1 for i in range(N)]\n",
    "# print(num)\n",
    "pos = M -1\n",
    "# 제거 해주는 것을 생각해줘서 -1을 해야함.\n",
    "print('<',end='')# 줄바꿈 제거\n",
    "while 1:\n",
    "    if len(num)  == 1 :\n",
    "        print(str(num[pos]), end='')\n",
    "        del num[pos]\n",
    "        break\n",
    "#   print(str(pos)+' , ',end='')\n",
    "    print(str(num[pos])+', ' , end='')\n",
    "    del num[pos]\n",
    "    pos = (pos+M-1) % len(num)\n",
    "    # num의 길이를 넘어 갈 경우 다시 나눠줌.\n",
    "print('>')"
   ]
  }
 ],
 "metadata": {
  "kernelspec": {
   "display_name": "Python 3",
   "language": "python",
   "name": "python3"
  },
  "language_info": {
   "codemirror_mode": {
    "name": "ipython",
    "version": 3
   },
   "file_extension": ".py",
   "mimetype": "text/x-python",
   "name": "python",
   "nbconvert_exporter": "python",
   "pygments_lexer": "ipython3",
   "version": "3.6.3"
  }
 },
 "nbformat": 4,
 "nbformat_minor": 2
}
