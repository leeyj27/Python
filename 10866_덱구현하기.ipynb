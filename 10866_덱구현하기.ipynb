{
 "cells": [
  {
   "cell_type": "markdown",
   "metadata": {},
   "source": [
    "#### 10866번 덱구현하기"
   ]
  },
  {
   "cell_type": "code",
   "execution_count": 19,
   "metadata": {},
   "outputs": [
    {
     "name": "stdout",
     "output_type": "stream",
     "text": [
      "15\n",
      "push_back 1\n",
      "push_front 2\n",
      "front\n",
      "2\n",
      "back\n",
      "1\n",
      "size\n",
      "2\n",
      "empty\n",
      "0\n",
      "pop_front\n",
      "2\n",
      "pop_back\n",
      "1\n",
      "pop_front\n",
      "-1\n",
      "size\n",
      "0\n",
      "empty\n",
      "1\n",
      "pop_back\n",
      "-1\n",
      "push_front 3\n",
      "empty\n",
      "0\n",
      "front\n",
      "3\n"
     ]
    }
   ],
   "source": [
    "deque = []\n",
    "N = int(input())\n",
    "for i in range(N) :\n",
    "    order = input().split()\n",
    "    s = order[0][:2]\n",
    "    if s == 'pu' :\n",
    "        temp = order[0][5:6]\n",
    "        if temp == 'f' :\n",
    "            deque.insert(0,order[1])\n",
    "            #push_front\n",
    "        else:\n",
    "            deque.append(order[1])\n",
    "            #push_back \n",
    "    if s == 'po' :\n",
    "        temp2 = order[0][4:5]\n",
    "        if temp2 == 'f' :\n",
    "            if len(deque) == 0 :\n",
    "                print(-1)\n",
    "                continue\n",
    "            print(deque.pop(0))\n",
    "            #pop_front\n",
    "        else:\n",
    "            if len(deque) == 0 :\n",
    "                print(-1)\n",
    "                continue\n",
    "            print(deque.pop())\n",
    "            #pop_back\n",
    "    if s == 'si' :\n",
    "        print(len(deque))\n",
    "    if s == 'em' :\n",
    "        if len(deque) == 0:\n",
    "            print(1)\n",
    "        else:\n",
    "            print(0)\n",
    "    if s == 'fr' :\n",
    "        if len(deque) == 0 :\n",
    "            print(-1)\n",
    "            continue\n",
    "        print(deque[0])\n",
    "    if s == 'ba' :\n",
    "        if len(deque) == 0 :\n",
    "            print(-1)\n",
    "            continue\n",
    "        print(deque[len(deque)-1])"
   ]
  }
 ],
 "metadata": {
  "kernelspec": {
   "display_name": "Python 3",
   "language": "python",
   "name": "python3"
  },
  "language_info": {
   "codemirror_mode": {
    "name": "ipython",
    "version": 3
   },
   "file_extension": ".py",
   "mimetype": "text/x-python",
   "name": "python",
   "nbconvert_exporter": "python",
   "pygments_lexer": "ipython3",
   "version": "3.6.3"
  }
 },
 "nbformat": 4,
 "nbformat_minor": 2
}
