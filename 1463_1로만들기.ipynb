{
 "cells": [
  {
   "cell_type": "markdown",
   "metadata": {},
   "source": [
    "#### 1463 1로만들기"
   ]
  },
  {
   "cell_type": "code",
   "execution_count": 95,
   "metadata": {},
   "outputs": [
    {
     "name": "stdout",
     "output_type": "stream",
     "text": [
      "10\n",
      "3\n"
     ]
    }
   ],
   "source": [
    "#저장용 list\n",
    "N = int(input())\n",
    "M = {}\n",
    "M[1] = 0\n",
    "for i in range(2,N+1) :\n",
    "    M[i] = M[i-1] + 1\n",
    "    # M[i]에 값을 넣어야 함.\n",
    "    if i % 3 == 0 :\n",
    "        if i % 2 == 0 :\n",
    "            a = M[i/3]\n",
    "            b = M[i/2]\n",
    "            c = M[i-1]\n",
    "            M[i] = min(M[i],min(a,b,c) + 1)\n",
    "        else :\n",
    "            M[i] = min(M[i],M[i/3] + 1)\n",
    "    if i % 2 == 0 :\n",
    "        d = M[i/2]\n",
    "        f = M[i-1]\n",
    "        M[i] = min(M[i],min(d,f) + 1)\n",
    "print(M[N])"
   ]
  },
  {
   "cell_type": "code",
   "execution_count": 98,
   "metadata": {},
   "outputs": [
    {
     "name": "stdout",
     "output_type": "stream",
     "text": [
      "10\n",
      "3\n"
     ]
    }
   ],
   "source": [
    "# 코드를 줄여보자\n",
    "N = int(input())\n",
    "M = {}\n",
    "M[1] = 0\n",
    "for i in range(2,N+1) :\n",
    "    M[i] = M[i-1] + 1\n",
    "    # M[i]에 값을 넣어야 함.\n",
    "    if i % 3 == 0 :\n",
    "        a = M[i/3]\n",
    "        M[i] = min(M[i],a + 1)\n",
    "    if i % 2 == 0 :\n",
    "        b = M[i/2]\n",
    "        M[i] = min(M[i],b + 1)\n",
    "print(M[N])"
   ]
  },
  {
   "cell_type": "code",
   "execution_count": null,
   "metadata": {},
   "outputs": [],
   "source": []
  }
 ],
 "metadata": {
  "kernelspec": {
   "display_name": "Python 3",
   "language": "python",
   "name": "python3"
  },
  "language_info": {
   "codemirror_mode": {
    "name": "ipython",
    "version": 3
   },
   "file_extension": ".py",
   "mimetype": "text/x-python",
   "name": "python",
   "nbconvert_exporter": "python",
   "pygments_lexer": "ipython3",
   "version": "3.6.3"
  }
 },
 "nbformat": 4,
 "nbformat_minor": 2
}
