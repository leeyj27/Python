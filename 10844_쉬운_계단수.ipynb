{
 "cells": [
  {
   "cell_type": "markdown",
   "metadata": {
    "scrolled": true
   },
   "source": [
    "### 10844 쉬운 계단수"
   ]
  },
  {
   "cell_type": "code",
   "execution_count": 103,
   "metadata": {
    "scrolled": true
   },
   "outputs": [
    {
     "name": "stdout",
     "output_type": "stream",
     "text": [
      "2\n",
      "17\n"
     ]
    }
   ],
   "source": [
    "N = int(input())\n",
    "# N은 길이야!\n",
    "# 0 ~ 9 \n",
    "# 0 : 1 9 : 2\n",
    "\n",
    "count = 0\n",
    "# matrix = [[0 for col in range(10)] for row in range(10)]\n",
    "DP = [[0 for col in range(10)] for row in range(N+1) ] \n",
    "# print(DP)\n",
    "for i in range(10) :\n",
    "    DP[1][i] = 1;\n",
    "for i in range(2,N+1) :\n",
    "# N = 2 일 경우 를 만들어야 함. [1,2,2,2,2,2,2,2,2,1]\n",
    "    for j in range(10) :\n",
    "        if j == 0:\n",
    "            DP[i][0] = DP[i-1][1]\n",
    "        elif j == 9 :\n",
    "            DP[i][9] = DP[i-1][8]\n",
    "        else :\n",
    "            DP[i][j] = DP[i-1][j-1] + DP[i-1][j+1]\n",
    "for i in range(1,10) :\n",
    "    count += DP[N][i]\n",
    "print(count%1000000000)"
   ]
  },
  {
   "cell_type": "code",
   "execution_count": null,
   "metadata": {},
   "outputs": [],
   "source": []
  }
 ],
 "metadata": {
  "kernelspec": {
   "display_name": "Python 3",
   "language": "python",
   "name": "python3"
  },
  "language_info": {
   "codemirror_mode": {
    "name": "ipython",
    "version": 3
   },
   "file_extension": ".py",
   "mimetype": "text/x-python",
   "name": "python",
   "nbconvert_exporter": "python",
   "pygments_lexer": "ipython3",
   "version": "3.6.3"
  }
 },
 "nbformat": 4,
 "nbformat_minor": 2
}
