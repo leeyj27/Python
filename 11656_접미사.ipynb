{
 "cells": [
  {
   "cell_type": "markdown",
   "metadata": {},
   "source": [
    "#### 11656_접미사"
   ]
  },
  {
   "cell_type": "code",
   "execution_count": 7,
   "metadata": {},
   "outputs": [
    {
     "name": "stdout",
     "output_type": "stream",
     "text": [
      "baekjoon\n",
      "aekjoon\n",
      "baekjoon\n",
      "ekjoon\n",
      "joon\n",
      "kjoon\n",
      "n\n",
      "on\n",
      "oon\n"
     ]
    }
   ],
   "source": [
    "s = input()\n",
    "tar = []\n",
    "for i in range(0,len(s)) :\n",
    "    tar.append(s[i:])\n",
    "tar.sort()\n",
    "print(*tar,sep='\\n')"
   ]
  }
 ],
 "metadata": {
  "kernelspec": {
   "display_name": "Python 3",
   "language": "python",
   "name": "python3"
  },
  "language_info": {
   "codemirror_mode": {
    "name": "ipython",
    "version": 3
   },
   "file_extension": ".py",
   "mimetype": "text/x-python",
   "name": "python",
   "nbconvert_exporter": "python",
   "pygments_lexer": "ipython3",
   "version": "3.6.3"
  }
 },
 "nbformat": 4,
 "nbformat_minor": 2
}
