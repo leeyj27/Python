{
 "cells": [
  {
   "cell_type": "markdown",
   "metadata": {},
   "source": [
    "#### 백준 10845번 큐 구현하기"
   ]
  },
  {
   "cell_type": "code",
   "execution_count": 8,
   "metadata": {},
   "outputs": [
    {
     "name": "stdout",
     "output_type": "stream",
     "text": [
      "15\n",
      "push 1\n",
      "push 2\n",
      "front\n",
      "1\n",
      "back\n",
      "2\n",
      "size\n",
      "2\n",
      "empty\n",
      "0\n",
      "pop\n",
      "1\n",
      "pop\n",
      "2\n",
      "pop\n",
      "-1\n",
      "size\n",
      "0\n",
      "empty\n",
      "1\n",
      "pop\n",
      "-1\n",
      "push 3\n",
      "empty\n",
      "0\n",
      "front\n",
      "3\n"
     ]
    }
   ],
   "source": [
    "N = int(input())\n",
    "queue = []\n",
    "for i in range(N):\n",
    "    try : order = input().split() ## 뛰어쓰기로 문자열을 구분\n",
    "    except: break\n",
    "    ch = order[0][:2] ## 맨 앞 글자의 2번째 까지 \n",
    "    if ch == 'pu':\n",
    "        queue.append(order[1]) ## append 방식 자체가 맨 뒤에 4를 추가!\n",
    "    if ch == 'po':\n",
    "        if len(queue) == 0 :\n",
    "            print(-1)\n",
    "            continue\n",
    "        print(queue[0])\n",
    "        del queue[0]\n",
    "    if ch == 'em':\n",
    "        if len(queue) == 0:\n",
    "            print(1)\n",
    "        else :\n",
    "            print(0)\n",
    "    if ch == 'si': \n",
    "        print(len(queue))\n",
    "    if ch == 'fr' :\n",
    "        if len(queue) == 0 :\n",
    "            print(-1)\n",
    "            continue        \n",
    "        print(queue[0])\n",
    "    if ch == 'ba' :\n",
    "        if len(queue) == 0 :\n",
    "            print(-1)\n",
    "            continue\n",
    "        print(queue[len(queue)-1])"
   ]
  }
 ],
 "metadata": {
  "kernelspec": {
   "display_name": "Python 3",
   "language": "python",
   "name": "python3"
  },
  "language_info": {
   "codemirror_mode": {
    "name": "ipython",
    "version": 3
   },
   "file_extension": ".py",
   "mimetype": "text/x-python",
   "name": "python",
   "nbconvert_exporter": "python",
   "pygments_lexer": "ipython3",
   "version": "3.6.3"
  }
 },
 "nbformat": 4,
 "nbformat_minor": 2
}
