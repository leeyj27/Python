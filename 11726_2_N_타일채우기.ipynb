{
 "cells": [
  {
   "cell_type": "markdown",
   "metadata": {},
   "source": [
    "#### 11726번 2*N 타일채우기\n",
    "Dp 의 개념을 활용!\n",
    "큰 문제를 작은 문제의 결합으로 해결한다.  \n",
    "N = 1 일 경우  \n",
    "N = 2 일 경우  \n",
    "N = 3 일 경우  \n",
    ".....   \n",
    "\n",
    "계속 해보면 결국 최종적으로 2가지 경우가 나온다.  \n",
    "D[i - 1] : 이 경우는 i - 1 까지 채운 후 2*1 한 개로 마무리.  \n",
    "D[i - 2] : 이 경우는 i - 2 까지 채운 후 1*2 두 개로 마무리.  \n",
    "즉, D[i] = D[i-1] + D[i-2]가 된다. "
   ]
  },
  {
   "cell_type": "code",
   "execution_count": 11,
   "metadata": {},
   "outputs": [
    {
     "name": "stdout",
     "output_type": "stream",
     "text": [
      "9\n",
      "55\n"
     ]
    }
   ],
   "source": [
    "D = {}\n",
    "D[0] = 1\n",
    "D[1] = 1\n",
    "N = int(input())\n",
    "for i in range(2,N+1) :\n",
    "    D[i] = D[i-1] + D[i-2]\n",
    "print(D[N]%10007)"
   ]
  },
  {
   "cell_type": "markdown",
   "metadata": {},
   "source": [
    "#### 11726번 2*N 타일채우기\n",
    "Dp 의 개념을 활용!\n",
    "큰 문제를 작은 문제의 결합으로 해결한다.  \n",
    "N = 1 일 경우  \n",
    "N = 2 일 경우  \n",
    "N = 3 일 경우  \n",
    ".....   \n",
    "\n",
    "계속 해보면 결국 최종적으로 2가지 경우가 나온다.  \n",
    "D[i - 1] : 이 경우는 i - 1 까지 채운 후 2*1 한 개로 마무리.  \n",
    "D[i - 2] : 이 경우는 i - 2 까지 채운 후 1*2 두 개로 마무리.  \n",
    "D[i - 2] : 이 경우는 i -2 까지 채운 후 2*2 한 개로 마무리.\n",
    "위에 경우 \n",
    "\n",
    "즉, D[i] = D[i-1] + (D[i-2]*2)가 된다. "
   ]
  },
  {
   "cell_type": "code",
   "execution_count": 10,
   "metadata": {},
   "outputs": [
    {
     "name": "stdout",
     "output_type": "stream",
     "text": [
      "8\n",
      "171\n"
     ]
    }
   ],
   "source": [
    "D = {}\n",
    "D[0] = 1\n",
    "D[1] = 1\n",
    "N = int(input())\n",
    "for i in range(2,N+1) :\n",
    "    D[i] = D[i-1] + (D[i-2]*2)\n",
    "print(D[N]%10007)"
   ]
  }
 ],
 "metadata": {
  "kernelspec": {
   "display_name": "Python 3",
   "language": "python",
   "name": "python3"
  },
  "language_info": {
   "codemirror_mode": {
    "name": "ipython",
    "version": 3
   },
   "file_extension": ".py",
   "mimetype": "text/x-python",
   "name": "python",
   "nbconvert_exporter": "python",
   "pygments_lexer": "ipython3",
   "version": "3.6.3"
  }
 },
 "nbformat": 4,
 "nbformat_minor": 2
}
