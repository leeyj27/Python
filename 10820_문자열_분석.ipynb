{
 "cells": [
  {
   "cell_type": "markdown",
   "metadata": {},
   "source": [
    "#### 10820번 문자열 분석"
   ]
  },
  {
   "cell_type": "code",
   "execution_count": 4,
   "metadata": {},
   "outputs": [
    {
     "name": "stdout",
     "output_type": "stream",
     "text": [
      "This is String\n",
      "10 2 0 2\n",
      "SPACE    1    SPACE\n",
      "0 10 1 8\n",
      " S a M p L e I n P u T     \n",
      "5 6 0 16\n",
      "0L1A2S3T4L5I6N7E8\n",
      "0 8 9 0\n",
      "\n"
     ]
    }
   ],
   "source": [
    "## 소문자 대문자 숫자 공백 숫자 세기\n",
    "def isNumber(st) :\n",
    "    try:\n",
    "        float(st)\n",
    "        ## 실수로 전환하는 함수를 사용했을 때 사용되면 \n",
    "        return True\n",
    "    except ValueError:\n",
    "        ## 실패하면 \n",
    "        return False\n",
    "try:\n",
    "    while True :\n",
    "        s = input()\n",
    "        if s =='':\n",
    "            break\n",
    "        small = 0\n",
    "        big = 0\n",
    "        num = 0\n",
    "        space = 0\n",
    "        for i in range(len(s)):\n",
    "            if s[i].isupper() == True :\n",
    "                big += 1\n",
    "            if s[i].islower() == True:\n",
    "                small += 1\n",
    "            if s[i] ==' ' :\n",
    "                space += 1\n",
    "            if isNumber(s[i]) == True:\n",
    "                num += 1\n",
    "        print(small,big,num,space,sep=\" \")\n",
    "except:\n",
    "    exit()\n",
    "## 공간 복잡도 : O(len(s)) 시간 복잡도 : 비교는 글자당 O(1) * len(s) 반복 ->O(len(s))"
   ]
  }
 ],
 "metadata": {
  "kernelspec": {
   "display_name": "Python 3",
   "language": "python",
   "name": "python3"
  },
  "language_info": {
   "codemirror_mode": {
    "name": "ipython",
    "version": 3
   },
   "file_extension": ".py",
   "mimetype": "text/x-python",
   "name": "python",
   "nbconvert_exporter": "python",
   "pygments_lexer": "ipython3",
   "version": "3.6.3"
  }
 },
 "nbformat": 4,
 "nbformat_minor": 2
}
